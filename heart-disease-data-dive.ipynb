{
 "cells": [
  {
   "cell_type": "markdown",
   "id": "814b9644",
   "metadata": {
    "papermill": {
     "duration": 0.002801,
     "end_time": "2023-10-27T00:55:14.856981",
     "exception": false,
     "start_time": "2023-10-27T00:55:14.854180",
     "status": "completed"
    },
    "tags": []
   },
   "source": [
    "Heart Disease Classification Model\n",
    "- if we finish early then we can add other illnesses\n",
    "\n",
    "Type of model?\n",
    "- logistic regression\n",
    "- decision trees\n",
    "- neural networks\n",
    "- GBM\n",
    "- Random Forest\n"
   ]
  },
  {
   "cell_type": "code",
   "execution_count": 1,
   "id": "cbb2c5ef",
   "metadata": {
    "_cell_guid": "b1076dfc-b9ad-4769-8c92-a6c4dae69d19",
    "_uuid": "8f2839f25d086af736a60e9eeb907d3b93b6e0e5",
    "execution": {
     "iopub.execute_input": "2023-10-27T00:55:14.863978Z",
     "iopub.status.busy": "2023-10-27T00:55:14.863472Z",
     "iopub.status.idle": "2023-10-27T00:55:24.952971Z",
     "shell.execute_reply": "2023-10-27T00:55:24.951557Z"
    },
    "papermill": {
     "duration": 10.095983,
     "end_time": "2023-10-27T00:55:24.955559",
     "exception": false,
     "start_time": "2023-10-27T00:55:14.859576",
     "status": "completed"
    },
    "tags": []
   },
   "outputs": [
    {
     "name": "stdout",
     "output_type": "stream",
     "text": [
      "/kaggle/input/cleveland-clinic-heart-disease-dataset/processed_cleveland.csv\n"
     ]
    }
   ],
   "source": [
    "# This Python 3 environment comes with many helpful analytics libraries installed\n",
    "# It is defined by the kaggle/python Docker image: https://github.com/kaggle/docker-python\n",
    "# For example, here's several helpful packages to load\n",
    "\n",
    "import numpy as np # linear algebra\n",
    "import pandas as pd # data processing, CSV file I/O (e.g. pd.read_csv)\n",
    "from keras.models import Sequential #Neural Model using Keras\n",
    "from keras.layers import Dense\n",
    "from sklearn.model_selection import train_test_split\n",
    "from sklearn.preprocessing import StandardScaler\n",
    "\n",
    "\n",
    "# Input data files are available in the read-only \"../input/\" directory\n",
    "# For example, running this (by clicking run or pressing Shift+Enter) will list all files under the input directory\n",
    "\n",
    "import os\n",
    "for dirname, _, filenames in os.walk('/kaggle/input'):\n",
    "    for filename in filenames:\n",
    "        print(os.path.join(dirname, filename))\n",
    "\n",
    "# You can write up to 20GB to the current directory (/kaggle/working/) that gets preserved as output when you create a version using \"Save & Run All\" \n",
    "# You can also write temporary files to /kaggle/temp/, but they won't be saved outside of the current session"
   ]
  },
  {
   "cell_type": "code",
   "execution_count": 2,
   "id": "9f25c4b7",
   "metadata": {
    "execution": {
     "iopub.execute_input": "2023-10-27T00:55:24.963481Z",
     "iopub.status.busy": "2023-10-27T00:55:24.962175Z",
     "iopub.status.idle": "2023-10-27T00:55:24.985321Z",
     "shell.execute_reply": "2023-10-27T00:55:24.984151Z"
    },
    "papermill": {
     "duration": 0.029815,
     "end_time": "2023-10-27T00:55:24.988047",
     "exception": false,
     "start_time": "2023-10-27T00:55:24.958232",
     "status": "completed"
    },
    "tags": []
   },
   "outputs": [],
   "source": [
    "dataset = pd.read_csv('/kaggle/input/cleveland-clinic-heart-disease-dataset/processed_cleveland.csv')\n",
    "dataset.head(10)\n",
    "dataset = dataset.replace('?', np.nan)"
   ]
  },
  {
   "cell_type": "code",
   "execution_count": 3,
   "id": "3fbfdefa",
   "metadata": {
    "execution": {
     "iopub.execute_input": "2023-10-27T00:55:24.994918Z",
     "iopub.status.busy": "2023-10-27T00:55:24.994496Z",
     "iopub.status.idle": "2023-10-27T00:55:25.000691Z",
     "shell.execute_reply": "2023-10-27T00:55:24.999500Z"
    },
    "papermill": {
     "duration": 0.012347,
     "end_time": "2023-10-27T00:55:25.003054",
     "exception": false,
     "start_time": "2023-10-27T00:55:24.990707",
     "status": "completed"
    },
    "tags": []
   },
   "outputs": [
    {
     "name": "stdout",
     "output_type": "stream",
     "text": [
      "303 rows and 14 columns\n"
     ]
    }
   ],
   "source": [
    "nRow, nCol = dataset.shape\n",
    "print(f'{nRow} rows and {nCol} columns')\n"
   ]
  },
  {
   "cell_type": "code",
   "execution_count": 4,
   "id": "8b74d3be",
   "metadata": {
    "execution": {
     "iopub.execute_input": "2023-10-27T00:55:25.010372Z",
     "iopub.status.busy": "2023-10-27T00:55:25.009481Z",
     "iopub.status.idle": "2023-10-27T00:55:29.156029Z",
     "shell.execute_reply": "2023-10-27T00:55:29.154805Z"
    },
    "papermill": {
     "duration": 4.15264,
     "end_time": "2023-10-27T00:55:29.158339",
     "exception": false,
     "start_time": "2023-10-27T00:55:25.005699",
     "status": "completed"
    },
    "tags": []
   },
   "outputs": [
    {
     "name": "stdout",
     "output_type": "stream",
     "text": [
      "Epoch 1/50\n",
      "25/25 [==============================] - 1s 2ms/step - loss: nan - accuracy: 0.5372\n",
      "Epoch 2/50\n",
      "25/25 [==============================] - 0s 2ms/step - loss: nan - accuracy: 0.5579\n",
      "Epoch 3/50\n",
      "25/25 [==============================] - 0s 2ms/step - loss: nan - accuracy: 0.5579\n",
      "Epoch 4/50\n",
      "25/25 [==============================] - 0s 2ms/step - loss: nan - accuracy: 0.5579\n",
      "Epoch 5/50\n",
      "25/25 [==============================] - 0s 2ms/step - loss: nan - accuracy: 0.5579\n",
      "Epoch 6/50\n",
      "25/25 [==============================] - 0s 2ms/step - loss: nan - accuracy: 0.5579\n",
      "Epoch 7/50\n",
      "25/25 [==============================] - 0s 2ms/step - loss: nan - accuracy: 0.5579\n",
      "Epoch 8/50\n",
      "25/25 [==============================] - 0s 2ms/step - loss: nan - accuracy: 0.5579\n",
      "Epoch 9/50\n",
      "25/25 [==============================] - 0s 2ms/step - loss: nan - accuracy: 0.5579\n",
      "Epoch 10/50\n",
      "25/25 [==============================] - 0s 2ms/step - loss: nan - accuracy: 0.5579\n",
      "Epoch 11/50\n",
      "25/25 [==============================] - 0s 2ms/step - loss: nan - accuracy: 0.5579\n",
      "Epoch 12/50\n",
      "25/25 [==============================] - 0s 2ms/step - loss: nan - accuracy: 0.5579\n",
      "Epoch 13/50\n",
      "25/25 [==============================] - 0s 2ms/step - loss: nan - accuracy: 0.5579\n",
      "Epoch 14/50\n",
      "25/25 [==============================] - 0s 2ms/step - loss: nan - accuracy: 0.5579\n",
      "Epoch 15/50\n",
      "25/25 [==============================] - 0s 2ms/step - loss: nan - accuracy: 0.5579\n",
      "Epoch 16/50\n",
      "25/25 [==============================] - 0s 2ms/step - loss: nan - accuracy: 0.5579\n",
      "Epoch 17/50\n",
      "25/25 [==============================] - 0s 2ms/step - loss: nan - accuracy: 0.5579\n",
      "Epoch 18/50\n",
      "25/25 [==============================] - 0s 2ms/step - loss: nan - accuracy: 0.5579\n",
      "Epoch 19/50\n",
      "25/25 [==============================] - 0s 2ms/step - loss: nan - accuracy: 0.5579\n",
      "Epoch 20/50\n",
      "25/25 [==============================] - 0s 2ms/step - loss: nan - accuracy: 0.5579\n",
      "Epoch 21/50\n",
      "25/25 [==============================] - 0s 2ms/step - loss: nan - accuracy: 0.5579\n",
      "Epoch 22/50\n",
      "25/25 [==============================] - 0s 2ms/step - loss: nan - accuracy: 0.5579\n",
      "Epoch 23/50\n",
      "25/25 [==============================] - 0s 2ms/step - loss: nan - accuracy: 0.5579\n",
      "Epoch 24/50\n",
      "25/25 [==============================] - 0s 2ms/step - loss: nan - accuracy: 0.5579\n",
      "Epoch 25/50\n",
      "25/25 [==============================] - 0s 2ms/step - loss: nan - accuracy: 0.5579\n",
      "Epoch 26/50\n",
      "25/25 [==============================] - 0s 2ms/step - loss: nan - accuracy: 0.5579\n",
      "Epoch 27/50\n",
      "25/25 [==============================] - 0s 2ms/step - loss: nan - accuracy: 0.5579\n",
      "Epoch 28/50\n",
      "25/25 [==============================] - 0s 2ms/step - loss: nan - accuracy: 0.5579\n",
      "Epoch 29/50\n",
      "25/25 [==============================] - 0s 3ms/step - loss: nan - accuracy: 0.5579\n",
      "Epoch 30/50\n",
      "25/25 [==============================] - 0s 2ms/step - loss: nan - accuracy: 0.5579\n",
      "Epoch 31/50\n",
      "25/25 [==============================] - 0s 2ms/step - loss: nan - accuracy: 0.5579\n",
      "Epoch 32/50\n",
      "25/25 [==============================] - 0s 2ms/step - loss: nan - accuracy: 0.5579\n",
      "Epoch 33/50\n",
      "25/25 [==============================] - 0s 2ms/step - loss: nan - accuracy: 0.5579\n",
      "Epoch 34/50\n",
      "25/25 [==============================] - 0s 2ms/step - loss: nan - accuracy: 0.5579\n",
      "Epoch 35/50\n",
      "25/25 [==============================] - 0s 2ms/step - loss: nan - accuracy: 0.5579\n",
      "Epoch 36/50\n",
      "25/25 [==============================] - 0s 2ms/step - loss: nan - accuracy: 0.5579\n",
      "Epoch 37/50\n",
      "25/25 [==============================] - 0s 2ms/step - loss: nan - accuracy: 0.5579\n",
      "Epoch 38/50\n",
      "25/25 [==============================] - 0s 2ms/step - loss: nan - accuracy: 0.5579\n",
      "Epoch 39/50\n",
      "25/25 [==============================] - 0s 2ms/step - loss: nan - accuracy: 0.5579\n",
      "Epoch 40/50\n",
      "25/25 [==============================] - 0s 2ms/step - loss: nan - accuracy: 0.5579\n",
      "Epoch 41/50\n",
      "25/25 [==============================] - 0s 2ms/step - loss: nan - accuracy: 0.5579\n",
      "Epoch 42/50\n",
      "25/25 [==============================] - 0s 2ms/step - loss: nan - accuracy: 0.5579\n",
      "Epoch 43/50\n",
      "25/25 [==============================] - 0s 2ms/step - loss: nan - accuracy: 0.5579\n",
      "Epoch 44/50\n",
      "25/25 [==============================] - 0s 2ms/step - loss: nan - accuracy: 0.5579\n",
      "Epoch 45/50\n",
      "25/25 [==============================] - 0s 2ms/step - loss: nan - accuracy: 0.5579\n",
      "Epoch 46/50\n",
      "25/25 [==============================] - 0s 2ms/step - loss: nan - accuracy: 0.5579\n",
      "Epoch 47/50\n",
      "25/25 [==============================] - 0s 2ms/step - loss: nan - accuracy: 0.5579\n",
      "Epoch 48/50\n",
      "25/25 [==============================] - 0s 2ms/step - loss: nan - accuracy: 0.5579\n",
      "Epoch 49/50\n",
      "25/25 [==============================] - 0s 2ms/step - loss: nan - accuracy: 0.5579\n",
      "Epoch 50/50\n",
      "25/25 [==============================] - 0s 2ms/step - loss: nan - accuracy: 0.5579\n",
      "Accuracy: 47.54\n"
     ]
    }
   ],
   "source": [
    "#Neural Network \n",
    "# Define features and target\n",
    "features = ['age', 'sex', 'cp', 'trestbps', 'chol', 'fbs', 'restecg', 'thalach', 'exang', 'oldpeak', 'slope', 'ca', 'thal']\n",
    "target = ['num']\n",
    "\n",
    "# Split the data into training and test sets\n",
    "X_train, X_test, y_train, y_test = train_test_split(dataset[features], dataset[target], test_size=0.2, random_state=42)\n",
    "\n",
    "# Standardize the features\n",
    "scaler = StandardScaler().fit(X_train)\n",
    "X_train = scaler.transform(X_train)\n",
    "X_test = scaler.transform(X_test)\n",
    "\n",
    "# Define the model\n",
    "model = Sequential()\n",
    "model.add(Dense(32, input_dim=len(features), activation='relu'))\n",
    "model.add(Dense(16, activation='relu'))\n",
    "model.add(Dense(1, activation='sigmoid'))\n",
    "\n",
    "# Compile the model\n",
    "model.compile(loss='binary_crossentropy', optimizer='adam', metrics=['accuracy'])\n",
    "\n",
    "# Train the model\n",
    "model.fit(X_train, y_train, epochs=50, batch_size=10, verbose=1)\n",
    "\n",
    "# Evaluate the model\n",
    "_, accuracy = model.evaluate(X_test, y_test, verbose=0)\n",
    "print('Accuracy: %.2f' % (accuracy*100))"
   ]
  },
  {
   "cell_type": "code",
   "execution_count": null,
   "id": "eece77a4",
   "metadata": {
    "papermill": {
     "duration": 0.011524,
     "end_time": "2023-10-27T00:55:29.182538",
     "exception": false,
     "start_time": "2023-10-27T00:55:29.171014",
     "status": "completed"
    },
    "tags": []
   },
   "outputs": [],
   "source": []
  }
 ],
 "metadata": {
  "kernelspec": {
   "display_name": "Python 3",
   "language": "python",
   "name": "python3"
  },
  "language_info": {
   "codemirror_mode": {
    "name": "ipython",
    "version": 3
   },
   "file_extension": ".py",
   "mimetype": "text/x-python",
   "name": "python",
   "nbconvert_exporter": "python",
   "pygments_lexer": "ipython3",
   "version": "3.10.12"
  },
  "papermill": {
   "default_parameters": {},
   "duration": 21.226835,
   "end_time": "2023-10-27T00:55:31.853743",
   "environment_variables": {},
   "exception": null,
   "input_path": "__notebook__.ipynb",
   "output_path": "__notebook__.ipynb",
   "parameters": {},
   "start_time": "2023-10-27T00:55:10.626908",
   "version": "2.4.0"
  }
 },
 "nbformat": 4,
 "nbformat_minor": 5
}
